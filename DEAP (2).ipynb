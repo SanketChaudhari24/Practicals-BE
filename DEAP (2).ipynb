{
 "cells": [
  {
   "cell_type": "code",
   "execution_count": 3,
   "metadata": {
    "colab": {
     "base_uri": "https://localhost:8080/"
    },
    "id": "2LhU09WR2yU_",
    "outputId": "683e2e83-3923-49ea-c915-2d9e5e45428b"
   },
   "outputs": [
    {
     "name": "stdout",
     "output_type": "stream",
     "text": [
      "Requirement already satisfied: deap in c:\\users\\dell\\anaconda3\\lib\\site-packages (1.4.2)Note: you may need to restart the kernel to use updated packages.\n",
      "\n",
      "Requirement already satisfied: numpy in c:\\users\\dell\\anaconda3\\lib\\site-packages (from deap) (1.22.4)\n"
     ]
    }
   ],
   "source": [
    "pip install deap\n"
   ]
  },
  {
   "cell_type": "code",
   "execution_count": 9,
   "metadata": {},
   "outputs": [
    {
     "name": "stdout",
     "output_type": "stream",
     "text": [
      "gen\tnevals\tavg   \tmax    \n",
      "0  \t100   \t1.0051\t1.84487\n",
      "1  \t63    \t1.24334\t2.23788\n",
      "2  \t72    \t1.40505\t2.19204\n",
      "3  \t63    \t1.41126\t2.35763\n",
      "4  \t62    \t1.4417 \t2.35763\n",
      "5  \t63    \t1.66977\t2.35763\n",
      "6  \t61    \t1.60896\t2.44301\n",
      "7  \t63    \t1.61366\t2.44301\n",
      "8  \t62    \t1.73555\t2.44955\n",
      "9  \t54    \t1.93633\t2.44955\n",
      "10 \t64    \t2.3508 \t2.45034\n",
      "11 \t71    \t2.39646\t2.45034\n",
      "12 \t58    \t2.43796\t2.45035\n",
      "13 \t55    \t2.44745\t2.45035\n",
      "14 \t66    \t2.38954\t2.45035\n",
      "15 \t66    \t2.4241 \t2.45035\n",
      "16 \t51    \t2.39929\t2.45035\n",
      "17 \t69    \t2.45035\t2.45035\n",
      "18 \t54    \t2.37173\t2.45035\n",
      "19 \t61    \t2.34781\t2.45035\n",
      "20 \t63    \t2.42453\t2.45035\n",
      "21 \t46    \t2.40414\t2.45035\n",
      "22 \t68    \t2.36147\t2.45035\n",
      "23 \t46    \t2.37047\t2.47309\n",
      "24 \t63    \t2.36466\t2.47309\n",
      "25 \t60    \t2.03221\t2.47309\n",
      "26 \t59    \t2.03356\t2.64102\n",
      "27 \t69    \t2.14511\t2.6417 \n",
      "28 \t69    \t2.01303\t2.64989\n",
      "29 \t52    \t2.43107\t2.84916\n",
      "30 \t68    \t2.52069\t2.65018\n",
      "31 \t59    \t2.58396\t2.6503 \n",
      "32 \t67    \t2.57072\t2.6503 \n",
      "33 \t60    \t2.59026\t2.65031\n",
      "34 \t54    \t2.57437\t2.82709\n",
      "35 \t63    \t2.4672 \t2.82709\n",
      "36 \t54    \t2.4123 \t2.82709\n",
      "37 \t56    \t2.44876\t2.82709\n",
      "38 \t57    \t2.44812\t2.82709\n",
      "39 \t68    \t2.39658\t2.82709\n",
      "40 \t68    \t2.43679\t2.84774\n",
      "41 \t57    \t2.31298\t2.84774\n",
      "42 \t64    \t2.29399\t2.84678\n",
      "43 \t55    \t2.22744\t2.84942\n",
      "44 \t66    \t2.00685\t2.84942\n",
      "45 \t63    \t2.42793\t2.84985\n",
      "46 \t63    \t2.57881\t2.85024\n",
      "47 \t51    \t2.78757\t2.85027\n",
      "48 \t71    \t2.79402\t2.85027\n",
      "49 \t67    \t2.62212\t2.85027\n",
      "50 \t70    \t2.74127\t2.85027\n",
      "\n",
      "Best Individual: [1.8505401844947356]\n",
      "Best Fitness: 2.850273718327346\n"
     ]
    }
   ],
   "source": [
    "import random\n",
    "import numpy as np\n",
    "from deap import base, creator, tools, algorithms\n",
    "\n",
    "# Define the fitness function\n",
    "def eval_function(individual):\n",
    "    x = individual[0]\n",
    "    return (x * np.sin(10 * np.pi * x) + 1,)\n",
    "\n",
    "# Create a minimizing or maximizing fitness (maximize here)\n",
    "creator.create(\"FitnessMax\", base.Fitness, weights=(1.0,))\n",
    "creator.create(\"Individual\", list, fitness=creator.FitnessMax)\n",
    "\n",
    "# Create toolbox\n",
    "toolbox = base.Toolbox()\n",
    "\n",
    "# Attribute generator (random float between 0 and 1)\n",
    "toolbox.register(\"attr_float\", random.uniform, 0, 1)\n",
    "\n",
    "# Structure initializers\n",
    "toolbox.register(\"individual\", tools.initRepeat, creator.Individual, toolbox.attr_float, 1)\n",
    "toolbox.register(\"population\", tools.initRepeat, list, toolbox.individual)\n",
    "\n",
    "# Operators\n",
    "toolbox.register(\"evaluate\", eval_function)\n",
    "toolbox.register(\"mate\", tools.cxBlend, alpha=0.5)        # Crossover\n",
    "toolbox.register(\"mutate\", tools.mutGaussian, mu=0, sigma=0.1, indpb=0.2) # Mutation\n",
    "toolbox.register(\"select\", tools.selTournament, tournsize=3) # Selection\n",
    "\n",
    "def main():\n",
    "    random.seed(42)\n",
    "\n",
    "    # Create initial population of 100 individuals\n",
    "    population = toolbox.population(n=100)\n",
    "\n",
    "    # Statistics to track\n",
    "    stats = tools.Statistics(lambda ind: ind.fitness.values)\n",
    "    stats.register(\"avg\", np.mean)\n",
    "    stats.register(\"max\", np.max)\n",
    "\n",
    "    # Evolve the population\n",
    "    population, logbook = algorithms.eaSimple(\n",
    "        population, \n",
    "        toolbox, \n",
    "        cxpb=0.5,  # Crossover probability\n",
    "        mutpb=0.2, # Mutation probability\n",
    "        ngen=50,   # Number of generations\n",
    "        stats=stats, \n",
    "        verbose=True\n",
    "    )\n",
    "\n",
    "    # Print best solution\n",
    "    best_individual = tools.selBest(population, k=1)[0]\n",
    "    print(\"\\nBest Individual:\", best_individual)\n",
    "    print(\"Best Fitness:\", best_individual.fitness.values[0])\n",
    "\n",
    "if __name__ == \"__main__\":\n",
    "    main()\n"
   ]
  },
  {
   "cell_type": "code",
   "execution_count": null,
   "metadata": {},
   "outputs": [],
   "source": []
  }
 ],
 "metadata": {
  "colab": {
   "provenance": []
  },
  "kernelspec": {
   "display_name": "Python 3 (ipykernel)",
   "language": "python",
   "name": "python3"
  },
  "language_info": {
   "codemirror_mode": {
    "name": "ipython",
    "version": 3
   },
   "file_extension": ".py",
   "mimetype": "text/x-python",
   "name": "python",
   "nbconvert_exporter": "python",
   "pygments_lexer": "ipython3",
   "version": "3.9.12"
  }
 },
 "nbformat": 4,
 "nbformat_minor": 1
}
